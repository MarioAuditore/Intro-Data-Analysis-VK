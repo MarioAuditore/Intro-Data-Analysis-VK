{
 "cells": [
  {
   "cell_type": "markdown",
   "metadata": {},
   "source": [
    "### T1 [1 балл]. Сделайте калькулятор произвольных выражений, операции следующие: +, -, /, ^, *. скобок нет"
   ]
  },
  {
   "cell_type": "code",
   "execution_count": 1,
   "metadata": {},
   "outputs": [],
   "source": [
    "def calculate(input_str):\n",
    "    \n",
    "    return 0"
   ]
  },
  {
   "cell_type": "markdown",
   "metadata": {},
   "source": [
    "#### Дополнить еще 2-мя своими тестами"
   ]
  },
  {
   "cell_type": "code",
   "execution_count": 20,
   "metadata": {},
   "outputs": [],
   "source": [
    "assert calculate(\"2 + 2 * 2\") == 6\n",
    "assert calculate(\"345 / 5 * 21\") == 1449.\n",
    "assert calculate(\"3^3 - 10 + 41 * 3\") == 119\n",
    "assert calculate(\"42 / 7 * 32\") == 192.0"
   ]
  },
  {
   "cell_type": "markdown",
   "metadata": {},
   "source": [
    "### T2 [1 балл]. Создайте функцию, которая размножает букву, после которой встретилось число, на это число.\n",
    "HE2LO -> HELLO (число означает сколько раз встречается буква)"
   ]
  },
  {
   "cell_type": "code",
   "execution_count": 3,
   "metadata": {},
   "outputs": [],
   "source": [
    "def transform_string(inp_string):\n",
    "    res = \"\"\n",
    "    curr_number = 0\n",
    "    for el in inp_string:\n",
    "        if el.isdigit():\n",
    "            curr_number = curr_number * 10 + int(el)\n",
    "        else:\n",
    "            if curr_number > 1:\n",
    "                res += el * curr_number\n",
    "                curr_number = 0\n",
    "            else:\n",
    "                res += el\n",
    "    return res"
   ]
  },
  {
   "cell_type": "markdown",
   "metadata": {},
   "source": [
    "#### Дополнить еще 2-мя своими тестами"
   ]
  },
  {
   "cell_type": "code",
   "execution_count": 4,
   "metadata": {},
   "outputs": [],
   "source": [
    "assert transform_string(\"HE2LO\") == \"HELLO\"\n",
    "assert transform_string(\"HI\") == \"HI\"\n",
    "assert transform_string(\"пр12ивет\") == \"приииииииииииивет\"\n",
    "assert transform_string(\"2л3у78н65тик\") == 'ллуууннннннннннннннннннннннннннннннннннннннннннннннннннннннннннннннннннннннннннннннтттттттттттттттттттттттттттттттттттттттттттттттттттттттттттттттттик'\n",
    "\n",
    "assert transform_string(\"BR3UH\") == \"BRUUUH\"\n",
    "assert transform_string(\"CRING3E\") == \"CRINGEEE\""
   ]
  },
  {
   "cell_type": "markdown",
   "metadata": {},
   "source": [
    "### T3 [1 балл]. Создайте функцию, которая выводит статистик по строке: кол-во гласных, согласных, цифр, строчных букв, прописных букв"
   ]
  },
  {
   "cell_type": "code",
   "execution_count": 5,
   "metadata": {},
   "outputs": [],
   "source": [
    "def string_stat(inp_string):\n",
    "    stats = [0, 0, 0, 0, 0]\n",
    "    l_set = set(\"у,е,а,о,э,я,и,ю,ы,ё\".split(','))\n",
    "    for letter in inp_string:\n",
    "        # число?\n",
    "        if letter.isdigit():\n",
    "            stats[2] += 1\n",
    "        else:\n",
    "            # заглавная?\n",
    "            if letter.isupper():\n",
    "                stats[4] += 1\n",
    "            else:\n",
    "                # lower case?\n",
    "                stats[3] += 1\n",
    "            # гласная? \n",
    "            if letter in l_set:\n",
    "                stats[0] += 1\n",
    "            else:\n",
    "                stats[1] += 1\n",
    "    return tuple(stats)"
   ]
  },
  {
   "cell_type": "markdown",
   "metadata": {},
   "source": [
    "#### Дополнить еще 2-мя своими тестами"
   ]
  },
  {
   "cell_type": "code",
   "execution_count": 6,
   "metadata": {},
   "outputs": [],
   "source": [
    "assert string_stat(\"Тевирп\") == (2, 4, 0, 5, 1)\n",
    "assert string_stat(\"КоРоВа4\") == (3, 3, 1, 3, 3)\n",
    "\n",
    "assert string_stat(\"Кринж3\") == (1, 4, 1, 4, 1)\n",
    "assert string_stat(\"Ба3а\") == (2, 1, 1, 2, 1)"
   ]
  },
  {
   "cell_type": "markdown",
   "metadata": {},
   "source": [
    "### Т4 [1 балл]. Напишите функцию, инвертирующую словарь.\n",
    "Например, из k - [v_1, v_2] в v_1 - [k_1]"
   ]
  },
  {
   "cell_type": "code",
   "execution_count": 7,
   "metadata": {},
   "outputs": [],
   "source": [
    "def dict_inverter(input_dict):\n",
    "    new_dict = {}\n",
    "    for key, vals in list(input_dict.items()):\n",
    "        for val in vals:\n",
    "            if val in new_dict:\n",
    "                new_dict[val] = [new_dict[val], key]\n",
    "            else:\n",
    "                new_dict[val] = key\n",
    "    return new_dict"
   ]
  },
  {
   "cell_type": "markdown",
   "metadata": {},
   "source": [
    "#### Дополнить еще 1-м своим тестом"
   ]
  },
  {
   "cell_type": "code",
   "execution_count": 8,
   "metadata": {},
   "outputs": [],
   "source": [
    "assert dict_inverter({\"mango\" : [\"eatable\"], \"pillow\": [\"sleepable\"]}) == {\"eatable\": \"mango\", \"sleepable\": \"pillow\"}\n",
    "assert dict_inverter({\"mango\" : [\"eatable\", \"readable\"]}) == {\"readable\":\"mango\", \"eatable\":\"mango\"}\n",
    "assert dict_inverter({\"mango\" : [\"eatable\"], \"banana\": [\"eatable\"]}) == {\"eatable\": [\"mango\", \"banana\"]}\n",
    "\n",
    "assert dict_inverter({\"potato\" : [\"vegetable\"], \"carrot\" : [\"vegetable\"], \"apple\": [\"fruit\"], \"melon\": [\"fruit\"]}) == {\"vegetable\": [\"potato\", \"carrot\"], \"fruit\": [\"apple\", \"melon\"]}"
   ]
  },
  {
   "cell_type": "markdown",
   "metadata": {},
   "source": [
    "### T5 [2 балла]. Средствами NumPy реализуйте функцию для применения метода главных компонент (снижение размерности).\n",
    "На вход подается двумерная матрица (NxM) и число компонент (k), на выходе получите матрицу сниженной размерности (Nxk)\n",
    "https://medium.com/analytics-vidhya/understanding-principle-component-analysis-pca-step-by-step-e7a4bb4031d9\n",
    "#### Протестируйте ее на некоторой матрице"
   ]
  },
  {
   "cell_type": "code",
   "execution_count": 9,
   "metadata": {},
   "outputs": [
    {
     "name": "stderr",
     "output_type": "stream",
     "text": [
      "C:\\Users\\Elf\\anaconda3\\lib\\site-packages\\numpy\\_distributor_init.py:30: UserWarning: loaded more than 1 DLL from .libs:\n",
      "C:\\Users\\Elf\\anaconda3\\lib\\site-packages\\numpy\\.libs\\libopenblas.4SP5SUA7CBGXUEOC35YP2ASOICYYEQZZ.gfortran-win_amd64.dll\n",
      "C:\\Users\\Elf\\anaconda3\\lib\\site-packages\\numpy\\.libs\\libopenblas.FB5AE2TYXYH2IJRDKGDGQ3XBKLKTF43H.gfortran-win_amd64.dll\n",
      "  warnings.warn(\"loaded more than 1 DLL from .libs:\"\n"
     ]
    }
   ],
   "source": [
    "import numpy as np\n",
    "\n",
    "def custom_pca(X, n_components):\n",
    "    # Нормализация X\n",
    "    X_normed = X.copy().T\n",
    "    X_normed = (X - X.mean(0)) / X.std(0)\n",
    "    \n",
    "    # берем матрицу ковариации\n",
    "    X_cov = np.cov(X_normed, rowvar = False)\n",
    "    \n",
    "    # пользуемся симметричностью матрицы\n",
    "    v, u = np.linalg.eigh(X_cov)\n",
    "    \n",
    "    return X_normed @ (u[:, np.argsort(v)[:-n_components-1:-1]])"
   ]
  },
  {
   "cell_type": "code",
   "execution_count": 10,
   "metadata": {},
   "outputs": [
    {
     "name": "stdout",
     "output_type": "stream",
     "text": [
      "Было:\n",
      "[[ 0.12855898  0.79267729 -1.47228315]\n",
      " [ 0.55238917  0.1218536  -0.73261414]\n",
      " [-0.44594187  1.47047105 -0.20317209]\n",
      " [-0.42241354 -0.06238897 -1.59190042]\n",
      " [-0.95433959  0.61291177 -1.33059138]\n",
      " [-0.44079691 -1.77185725 -0.57686061]\n",
      " [ 0.37121249  0.54660981  0.05380531]\n",
      " [ 0.35990676  0.64924272  0.47736774]\n",
      " [-1.9013492   1.02534338  0.58768878]\n",
      " [ 0.49825192 -0.49103517  0.82386727]]\n",
      "Стало:\n",
      "[[ 0.01511869  0.99784202]\n",
      " [-0.89665841  0.15496251]\n",
      " [ 1.19214036 -0.38711815]\n",
      " [-0.17127301  1.49290135]\n",
      " [ 0.90488703  1.23649001]\n",
      " [-1.5009424   0.6985698 ]\n",
      " [-0.32957822 -0.76272875]\n",
      " [-0.20990434 -1.26004313]\n",
      " [ 2.25535702 -0.70525854]\n",
      " [-1.25914672 -1.46561712]]\n",
      "sklearn:\n",
      "[[ 0.01511869  0.99784202]\n",
      " [-0.89665841  0.15496251]\n",
      " [ 1.19214036 -0.38711815]\n",
      " [-0.17127301  1.49290135]\n",
      " [ 0.90488703  1.23649001]\n",
      " [-1.5009424   0.6985698 ]\n",
      " [-0.32957822 -0.76272875]\n",
      " [-0.20990434 -1.26004313]\n",
      " [ 2.25535702 -0.70525854]\n",
      " [-1.25914672 -1.46561712]]\n"
     ]
    }
   ],
   "source": [
    "from sklearn.decomposition import PCA\n",
    "\n",
    "sample = np.random.randn(10, 3)\n",
    "\n",
    "sample_normed = sample.copy().T\n",
    "sample_normed = (sample - sample.mean(0)) / sample.std(0)\n",
    "\n",
    "pca = PCA(n_components=2)\n",
    "pca.fit(sample_normed)\n",
    "true_pca = pca.transform(sample_normed)\n",
    "\n",
    "print(f\"Было:\\n{sample}\\nСтало:\\n{custom_pca(sample, n_components = 2)}\\nsklearn:\\n{true_pca}\")"
   ]
  },
  {
   "cell_type": "markdown",
   "metadata": {},
   "source": [
    "### Т6 [4 балла]. Напишите в виде класса NashNumPy свой NumPy, но выполняющий матричные операции только на одномерных и двумерных массивах. Должны быть реализованы следующие операции (в случае, если по правилам линейной алгебры такая операция невозможна, то должна возвращаться соответствующая ошибка):\n",
    "- создание объекта класса NashNumPy - через список, через заполнение 0, через заполнение 1\n",
    "- красивое распечатывание объекта класса\n",
    "- применение некоторой (подаваемой на вход) функции ко всем элементам массива\n",
    "- размерность объекта класса\n",
    "- матричное сложение (и разность)\n",
    "- матричное произведение\n",
    "- произведение Адамара\n",
    "- вертикальное соединение\n",
    "- горизонтальное соединение\n",
    "\n",
    "#### Напишите собственные проверки работоспособности функции"
   ]
  },
  {
   "cell_type": "code",
   "execution_count": 11,
   "metadata": {},
   "outputs": [],
   "source": [
    "# необходимо для копирования\n",
    "from copy import deepcopy\n",
    "\n",
    "class NashNumPy:\n",
    "    \n",
    "    def __init__(self, arr):\n",
    "        \"\"\"\n",
    "        Инициализация списком\n",
    "        \"\"\"\n",
    "        self.data = arr\n",
    "        self.size = (len(arr), len(arr[0]))\n",
    "    \n",
    "    def zeros(self, size):\n",
    "        \"\"\"\n",
    "        Инициализация нулями заданного размера\n",
    "        \"\"\"\n",
    "        self.data = [[0 for _ in range(size[1])] for _ in range(size[0])] \n",
    "        \n",
    "    def ones(self, size):\n",
    "        \"\"\"\n",
    "        Инициализация единицами заданного размера\n",
    "        \"\"\"\n",
    "        self.data = [[1 for _ in range(size[1])] for _ in range(size[0])] \n",
    "    \n",
    "    def __str__(self):\n",
    "        \"\"\"\n",
    "        Преобразование в string для функции print\n",
    "        \"\"\"\n",
    "        str_print = '['\n",
    "        for i, row in enumerate(self.data):\n",
    "            if i == self.size[0] - 1:\n",
    "                str_print += '[ ' + ' '.join(str(e) for e in row) + ' ]]'\n",
    "            else:\n",
    "                str_print += '[ ' + ' '.join(str(e) for e in row) + ' ]' + '\\n'\n",
    "        return str_print\n",
    "        \n",
    "    def __repr__(self):\n",
    "        \"\"\"\n",
    "        Перегрузка вывода без print\n",
    "        \"\"\"\n",
    "        return str(self)\n",
    "        \n",
    "    def __add__(self, other):\n",
    "        \"\"\"\n",
    "        Сумма объектов одинаковой длины\n",
    "        \"\"\"\n",
    "        assert self.size == other.size\n",
    "        result = []\n",
    "        for i in range(self.size[0]):\n",
    "            row = []\n",
    "            for j in range(self.size[1]):\n",
    "                row.append(self.data[i][j] + other.data[i][j])\n",
    "            result.append(row)\n",
    "        return NashNumPy(result)\n",
    "    \n",
    "    def __sub__(self, other):\n",
    "        \"\"\"\n",
    "        Разность объектов одинаковой длины\n",
    "        \"\"\"\n",
    "        assert self.size == other.size\n",
    "        result = []\n",
    "        for i in range(self.size[0]):\n",
    "            row = []\n",
    "            for j in range(self.size[1]):\n",
    "                row.append(self.data[i][j] - other.data[i][j])\n",
    "            result.append(row)\n",
    "        return NashNumPy(result)\n",
    "    \n",
    "    def __mul__(self, other):\n",
    "        \"\"\"\n",
    "        Умножение на число\n",
    "        \"\"\"\n",
    "        result = []\n",
    "        for i in range(self.size[0]):\n",
    "            row = []\n",
    "            for j in range(self.size[1]):\n",
    "                row.append(self.data[i][j] * other)\n",
    "            result.append(row)\n",
    "        return NashNumPy(result)\n",
    "    \n",
    "    \n",
    "    def mm(self, mtx):\n",
    "        \"\"\"\n",
    "        Матричное умножение\n",
    "        \"\"\"\n",
    "        assert self.size[1] == mtx.size[0] or (mtx.size[0] == 1 and self.size[1] == mtx.size[1])\n",
    "        result = []\n",
    "        \n",
    "        if mtx.size[0] == 1:\n",
    "            # случай вектора\n",
    "            for i, row in enumerate(self.data):\n",
    "                buf = 0\n",
    "                for j in range(mtx.size[1]):\n",
    "                    buf += row[j] * mtx.data[0][j]\n",
    "                result.append(buf)\n",
    "        else:\n",
    "            for i, row in enumerate(self.data):\n",
    "                new_row = []\n",
    "                # идем по колоннам второго операнда\n",
    "                for j in range(mtx.size[1]):\n",
    "                    buf = 0\n",
    "                    for k in range(self.size[1]):\n",
    "                        buf += row[k] * mtx.data[k][j]\n",
    "                    new_row.append(buf)\n",
    "                result.append(new_row)\n",
    "        \n",
    "        return NashNumPy(result)\n",
    "    \n",
    "    def hadamard(self, mtx):\n",
    "        \"\"\"\n",
    "        Произведение Адамара\n",
    "        \"\"\"\n",
    "        assert self.size == mtx.size\n",
    "        result = []\n",
    "        for i in range(self.size[0]):\n",
    "            row = []\n",
    "            for j in range(self.size[1]):\n",
    "                row.append(self.data[i][j] * mtx.data[i][j])\n",
    "            result.append(row)\n",
    "        return NashNumPy(result)\n",
    "    \n",
    "    def hstack(self, vec):\n",
    "        \"\"\"\n",
    "        Горизонтальное присоединение\n",
    "        \"\"\"\n",
    "        assert self.size[0] == vec.size[0]\n",
    "        # копируем массив\n",
    "        result = deepcopy(self.data)\n",
    "        for i in range(self.size[0]):\n",
    "            for j in range(vec.size[1]):\n",
    "                result[i].append(vec.data[i][j])\n",
    "        return NashNumPy(result)\n",
    "    \n",
    "    def vstack(self, vec):\n",
    "        \"\"\"\n",
    "        Вертикальное присоединение\n",
    "        \"\"\"\n",
    "        assert self.size[1] == vec.size[1]\n",
    "        # копируем массив\n",
    "        result = deepcopy(self.data)\n",
    "        for i in range(vec.size[0]):\n",
    "            result.append(vec.data[i])\n",
    "        return NashNumPy(result)"
   ]
  },
  {
   "cell_type": "code",
   "execution_count": 12,
   "metadata": {},
   "outputs": [
    {
     "name": "stdout",
     "output_type": "stream",
     "text": [
      "[[ 1 0 ]\n",
      "[ 0 1 ]]\n",
      "---\n",
      "[[ 1 2 ]\n",
      "[ 3 4 ]]\n",
      "---\n",
      "[[ 5 6 ]]\n",
      "---\n",
      "[[ 7.5 ]\n",
      "[ 8.2 ]]\n",
      "---\n",
      "[[ 11 32 ]\n",
      "[ 32 4 ]]\n"
     ]
    }
   ],
   "source": [
    "a_orig = [[1,2],[3,4]]\n",
    "b_orig = [[5, 6]]\n",
    "c_orig = [[7.5], [8.2]]\n",
    "d_orig = [[11,32],[32,4]]\n",
    "e_orig = [[1,0],[0,1]]\n",
    "\n",
    "\n",
    "a = NashNumPy(a_orig)\n",
    "b = NashNumPy(b_orig)\n",
    "c = NashNumPy(c_orig)\n",
    "d = NashNumPy(d_orig)\n",
    "e = NashNumPy(e_orig)\n",
    "\n",
    "a_np = np.array(a_orig)\n",
    "b_np = np.array(b_orig)\n",
    "c_np = np.array(c_orig)\n",
    "d_np = np.array(d_orig)\n",
    "e_np = np.array(e_orig)\n",
    "\n",
    "\n",
    "print(e, a, b, c, d, sep='\\n---\\n')"
   ]
  },
  {
   "cell_type": "code",
   "execution_count": 13,
   "metadata": {},
   "outputs": [
    {
     "data": {
      "text/plain": [
       "([[ 2 4 ]\n",
       " [ 6 8 ]],\n",
       " [[ 2 4 ]\n",
       " [ 6 8 ]])"
      ]
     },
     "execution_count": 13,
     "metadata": {},
     "output_type": "execute_result"
    }
   ],
   "source": [
    "assert (a + a).data == (a * 2).data\n",
    "a + a, a * 2"
   ]
  },
  {
   "cell_type": "code",
   "execution_count": 14,
   "metadata": {},
   "outputs": [
    {
     "data": {
      "text/plain": [
       "([[12, 34], [35, 8]], [[12, 34], [35, 8]])"
      ]
     },
     "execution_count": 14,
     "metadata": {},
     "output_type": "execute_result"
    }
   ],
   "source": [
    "assert (a + d).data == (a_np + d_np).tolist()\n",
    "(a + d).data, (a_np + d_np).tolist()"
   ]
  },
  {
   "cell_type": "code",
   "execution_count": 15,
   "metadata": {},
   "outputs": [
    {
     "name": "stdout",
     "output_type": "stream",
     "text": [
      "[[ 75 40 ]\n",
      "[ 161 112 ]]\n",
      " --- \n",
      "[[ 1 2 ]\n",
      "[ 3 4 ]]\n",
      " --- \n",
      "[[ 23.9 ]\n",
      "[ 55.3 ]]\n",
      " --- \n",
      "[[ 86.69999999999999 ]]\n"
     ]
    }
   ],
   "source": [
    "assert a.mm(d).data == (a_np @ d_np).tolist()\n",
    "assert a.mm(e).data == (a_np @ e_np).tolist()\n",
    "assert a.mm(c).data == (a_np @ c_np).tolist()\n",
    "assert b.mm(c).data == (b_np @ c_np).tolist()\n",
    "\n",
    "print(a.mm(d), a.mm(e), a.mm(c), b.mm(c), sep='\\n --- \\n')"
   ]
  },
  {
   "cell_type": "code",
   "execution_count": 16,
   "metadata": {},
   "outputs": [
    {
     "name": "stdout",
     "output_type": "stream",
     "text": [
      "[[ 1 0 ]\n",
      "[ 0 4 ]]\n"
     ]
    }
   ],
   "source": [
    "assert a.hadamard(e).data == np.multiply(a_np, e_np).tolist()\n",
    "\n",
    "print(a.hadamard(e))"
   ]
  },
  {
   "cell_type": "code",
   "execution_count": 17,
   "metadata": {},
   "outputs": [
    {
     "name": "stdout",
     "output_type": "stream",
     "text": [
      "[[ 7.5 ]\n",
      "[ 8.2 ]]\n",
      " --- \n",
      "[[ 7.5 7.5 ]\n",
      "[ 8.2 8.2 ]]\n"
     ]
    }
   ],
   "source": [
    "assert c.hstack(c).data == np.hstack((c_np, c_np)).tolist()\n",
    "\n",
    "print(c, c.hstack(c), sep='\\n --- \\n')"
   ]
  },
  {
   "cell_type": "code",
   "execution_count": 18,
   "metadata": {},
   "outputs": [
    {
     "name": "stdout",
     "output_type": "stream",
     "text": [
      "[[ 1 2 ]\n",
      "[ 3 4 ]]\n",
      " --- \n",
      "[[ 11 32 ]\n",
      "[ 32 4 ]]\n",
      " --- \n",
      "[[ 1 2 11 32 ]\n",
      "[ 3 4 32 4 ]]\n"
     ]
    }
   ],
   "source": [
    "assert a.hstack(d).data == np.hstack((a_np, d_np)).tolist()\n",
    "\n",
    "print(a, d, a.hstack(d), sep='\\n --- \\n')"
   ]
  },
  {
   "cell_type": "code",
   "execution_count": 19,
   "metadata": {},
   "outputs": [
    {
     "name": "stdout",
     "output_type": "stream",
     "text": [
      "[[ 5 6 ]]\n",
      " --- \n",
      "[[ 1 2 ]\n",
      "[ 3 4 ]]\n",
      " --- \n",
      "[[ 5 6 ]\n",
      "[ 1 2 ]\n",
      "[ 3 4 ]]\n"
     ]
    }
   ],
   "source": [
    "assert b.vstack(a).data == np.vstack((b_np, a_np)).tolist()\n",
    "\n",
    "print(b, a, b.vstack(a), sep='\\n --- \\n')"
   ]
  },
  {
   "cell_type": "code",
   "execution_count": null,
   "metadata": {},
   "outputs": [],
   "source": []
  }
 ],
 "metadata": {
  "kernelspec": {
   "display_name": "Python 3",
   "language": "python",
   "name": "python3"
  },
  "language_info": {
   "codemirror_mode": {
    "name": "ipython",
    "version": 3
   },
   "file_extension": ".py",
   "mimetype": "text/x-python",
   "name": "python",
   "nbconvert_exporter": "python",
   "pygments_lexer": "ipython3",
   "version": "3.8.8"
  }
 },
 "nbformat": 4,
 "nbformat_minor": 2
}
