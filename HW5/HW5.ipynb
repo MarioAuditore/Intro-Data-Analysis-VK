{
 "cells": [
  {
   "cell_type": "code",
   "execution_count": 1,
   "id": "85b775fb",
   "metadata": {},
   "outputs": [],
   "source": [
    "import argparse\n",
    "import sqlite3\n",
    "import shutil\n",
    "import time\n",
    "import os"
   ]
  },
  {
   "cell_type": "code",
   "execution_count": 2,
   "id": "78b2292c",
   "metadata": {},
   "outputs": [
    {
     "name": "stderr",
     "output_type": "stream",
     "text": [
      "C:\\Users\\Elf\\anaconda3\\lib\\site-packages\\numpy\\_distributor_init.py:30: UserWarning: loaded more than 1 DLL from .libs:\n",
      "C:\\Users\\Elf\\anaconda3\\lib\\site-packages\\numpy\\.libs\\libopenblas.4SP5SUA7CBGXUEOC35YP2ASOICYYEQZZ.gfortran-win_amd64.dll\n",
      "C:\\Users\\Elf\\anaconda3\\lib\\site-packages\\numpy\\.libs\\libopenblas.FB5AE2TYXYH2IJRDKGDGQ3XBKLKTF43H.gfortran-win_amd64.dll\n",
      "  warnings.warn(\"loaded more than 1 DLL from .libs:\"\n"
     ]
    }
   ],
   "source": [
    "import pandas as pd\n",
    "import numpy as np\n",
    "from collections import defaultdict"
   ]
  },
  {
   "cell_type": "markdown",
   "id": "f64cdde7",
   "metadata": {},
   "source": [
    "# Пример работы с БД в Python"
   ]
  },
  {
   "cell_type": "code",
   "execution_count": 3,
   "id": "1f6a22c0",
   "metadata": {},
   "outputs": [],
   "source": [
    "conn = sqlite3.connect('test_database') \n",
    "c = conn.cursor()"
   ]
  },
  {
   "cell_type": "code",
   "execution_count": 4,
   "id": "63c8aed3",
   "metadata": {},
   "outputs": [],
   "source": [
    "def close_connection():\n",
    "    conn.commit()\n",
    "    conn.close()"
   ]
  },
  {
   "cell_type": "markdown",
   "id": "d105e728",
   "metadata": {},
   "source": [
    "Создание БД"
   ]
  },
  {
   "cell_type": "code",
   "execution_count": 5,
   "id": "fa76d67d",
   "metadata": {},
   "outputs": [
    {
     "data": {
      "text/plain": [
       "<sqlite3.Cursor at 0x16a0cfe1b20>"
      ]
     },
     "execution_count": 5,
     "metadata": {},
     "output_type": "execute_result"
    }
   ],
   "source": [
    "c.execute('''\n",
    "          CREATE TABLE IF NOT EXISTS products\n",
    "          ([product_id] INTEGER PRIMARY KEY, [product_name] TEXT)\n",
    "          ''')"
   ]
  },
  {
   "cell_type": "markdown",
   "id": "44a16a79",
   "metadata": {},
   "source": [
    "Заполнение БД"
   ]
  },
  {
   "cell_type": "code",
   "execution_count": 6,
   "id": "ec3d34bc",
   "metadata": {},
   "outputs": [],
   "source": [
    "# c.execute('''\n",
    "#           INSERT INTO products (product_id, product_name)\n",
    "\n",
    "#                 VALUES\n",
    "#                 (1,'Computer'),\n",
    "#                 (2,'Printer'),\n",
    "#                 (3,'Tablet'),\n",
    "#                 (4,'Desk'),\n",
    "#                 (5,'Chair')\n",
    "#           ''')"
   ]
  },
  {
   "cell_type": "markdown",
   "id": "440eedd7",
   "metadata": {},
   "source": [
    "SQL-запрос и вывод результатов в Python"
   ]
  },
  {
   "cell_type": "code",
   "execution_count": 7,
   "id": "47389898",
   "metadata": {},
   "outputs": [
    {
     "data": {
      "text/plain": [
       "<sqlite3.Cursor at 0x16a0cfe1b20>"
      ]
     },
     "execution_count": 7,
     "metadata": {},
     "output_type": "execute_result"
    }
   ],
   "source": [
    "c.execute('''\n",
    "select * from products\n",
    "'''\n",
    ")"
   ]
  },
  {
   "cell_type": "code",
   "execution_count": 8,
   "id": "ce9f4633",
   "metadata": {},
   "outputs": [
    {
     "data": {
      "text/html": [
       "<div>\n",
       "<style scoped>\n",
       "    .dataframe tbody tr th:only-of-type {\n",
       "        vertical-align: middle;\n",
       "    }\n",
       "\n",
       "    .dataframe tbody tr th {\n",
       "        vertical-align: top;\n",
       "    }\n",
       "\n",
       "    .dataframe thead th {\n",
       "        text-align: right;\n",
       "    }\n",
       "</style>\n",
       "<table border=\"1\" class=\"dataframe\">\n",
       "  <thead>\n",
       "    <tr style=\"text-align: right;\">\n",
       "      <th></th>\n",
       "      <th>product_name</th>\n",
       "      <th>price</th>\n",
       "    </tr>\n",
       "  </thead>\n",
       "  <tbody>\n",
       "  </tbody>\n",
       "</table>\n",
       "</div>"
      ],
      "text/plain": [
       "Empty DataFrame\n",
       "Columns: [product_name, price]\n",
       "Index: []"
      ]
     },
     "execution_count": 8,
     "metadata": {},
     "output_type": "execute_result"
    }
   ],
   "source": [
    "pd.DataFrame(c.fetchall(), columns=['product_name','price'])"
   ]
  },
  {
   "cell_type": "markdown",
   "id": "6a67e5e9",
   "metadata": {},
   "source": [
    "# ДЗ"
   ]
  },
  {
   "cell_type": "markdown",
   "id": "6a6bdd49",
   "metadata": {},
   "source": [
    "## Задание 1 [3 балла]. Создайте схему БД \"Университет\".\n",
    "\n",
    "Она должна включать в себя минимально следующие отношения:\n",
    "\n",
    "    - студенты (минимальные атрибуты: ФИО, номер зачётки, дата рождения, группа, год поступления)\n",
    "    - посещаемые курсы (минимальные атрибуты: название курса, тип курса, дата введения в программу)\n",
    "    - преподаватели (минимальные атрибуты: ФИО, дата рождения, дата начала работы в нашем университете, дата начала трудовой деятельности)\n",
    "Атрибуты отношений должны быть осмысленными и соответствовать тематике."
   ]
  },
  {
   "cell_type": "code",
   "execution_count": 9,
   "id": "8d1917ea",
   "metadata": {},
   "outputs": [],
   "source": [
    "conn = sqlite3.connect('university_database') \n",
    "c = conn.cursor()"
   ]
  },
  {
   "cell_type": "markdown",
   "id": "3e14c1e4",
   "metadata": {},
   "source": [
    "- студенты (минимальные атрибуты: ФИО, номер зачётки, дата рождения, группа, год поступления)\n"
   ]
  },
  {
   "cell_type": "code",
   "execution_count": 10,
   "id": "1c367a1e",
   "metadata": {},
   "outputs": [
    {
     "data": {
      "text/plain": [
       "'\\nALTER TABLE students \\nRENAME COLUMN unit TO group_number\\n'"
      ]
     },
     "execution_count": 10,
     "metadata": {},
     "output_type": "execute_result"
    }
   ],
   "source": [
    "students_cols = ['record_book_id', 'name', 'birth_date', 'group_id', 'enrollment_year']\n",
    "\n",
    "c.execute('''\n",
    "          CREATE TABLE IF NOT EXISTS students\n",
    "          ([record_book_id] INTEGER PRIMARY KEY, \n",
    "          [name] TEXT,\n",
    "          [birth_date] DATE,\n",
    "          [group_id] TEXT,\n",
    "          [enrollment_year] INTEGER)\n",
    "          ''')\n",
    "\n",
    "'''\n",
    "ALTER TABLE students \n",
    "RENAME COLUMN unit TO group_number\n",
    "'''"
   ]
  },
  {
   "cell_type": "code",
   "execution_count": 11,
   "id": "5b2dd5ef",
   "metadata": {},
   "outputs": [
    {
     "data": {
      "text/html": [
       "<div>\n",
       "<style scoped>\n",
       "    .dataframe tbody tr th:only-of-type {\n",
       "        vertical-align: middle;\n",
       "    }\n",
       "\n",
       "    .dataframe tbody tr th {\n",
       "        vertical-align: top;\n",
       "    }\n",
       "\n",
       "    .dataframe thead th {\n",
       "        text-align: right;\n",
       "    }\n",
       "</style>\n",
       "<table border=\"1\" class=\"dataframe\">\n",
       "  <thead>\n",
       "    <tr style=\"text-align: right;\">\n",
       "      <th></th>\n",
       "      <th>record_book_id</th>\n",
       "      <th>name</th>\n",
       "      <th>birth_date</th>\n",
       "      <th>group_id</th>\n",
       "      <th>enrollment_year</th>\n",
       "    </tr>\n",
       "  </thead>\n",
       "  <tbody>\n",
       "  </tbody>\n",
       "</table>\n",
       "</div>"
      ],
      "text/plain": [
       "Empty DataFrame\n",
       "Columns: [record_book_id, name, birth_date, group_id, enrollment_year]\n",
       "Index: []"
      ]
     },
     "execution_count": 11,
     "metadata": {},
     "output_type": "execute_result"
    }
   ],
   "source": [
    "c.execute('''\n",
    "select * from students\n",
    "'''\n",
    ")\n",
    "pd.DataFrame(c.fetchall(), columns=students_cols)"
   ]
  },
  {
   "cell_type": "markdown",
   "id": "718e4d46",
   "metadata": {},
   "source": [
    "- посещаемые курсы (минимальные атрибуты: название курса, тип курса, дата введения в программу)"
   ]
  },
  {
   "cell_type": "code",
   "execution_count": 12,
   "id": "569aea78",
   "metadata": {},
   "outputs": [
    {
     "data": {
      "text/plain": [
       "<sqlite3.Cursor at 0x16a1b183650>"
      ]
     },
     "execution_count": 12,
     "metadata": {},
     "output_type": "execute_result"
    }
   ],
   "source": [
    "courses_cols = ['course_id', 'name', 'type', 'inclusion_date']\n",
    "\n",
    "c.execute('''\n",
    "          CREATE TABLE IF NOT EXISTS courses\n",
    "          ([course_id] INTEGER PRIMARY KEY, \n",
    "          [name] TEXT,\n",
    "          [type] TEXT,\n",
    "          [inclusion_date] DATE)\n",
    "          ''')"
   ]
  },
  {
   "cell_type": "markdown",
   "id": "87b8cc8d",
   "metadata": {},
   "source": [
    " Связь курсов и студентов"
   ]
  },
  {
   "cell_type": "code",
   "execution_count": 13,
   "id": "0bd3376d",
   "metadata": {},
   "outputs": [
    {
     "data": {
      "text/plain": [
       "<sqlite3.Cursor at 0x16a1b183650>"
      ]
     },
     "execution_count": 13,
     "metadata": {},
     "output_type": "execute_result"
    }
   ],
   "source": [
    "c.execute('''\n",
    "          CREATE TABLE IF NOT EXISTS students_courses\n",
    "          ([record_book_id] INTEGER NOT NULL,\n",
    "          [course_id] INTEGER NOT NULL,\n",
    "          FOREIGN KEY (record_book_id) REFERENCES students(record_book_id),\n",
    "          FOREIGN KEY (course_id) REFERENCES courses(course_id))\n",
    "          ''')"
   ]
  },
  {
   "cell_type": "markdown",
   "id": "02a35518",
   "metadata": {},
   "source": [
    "- преподаватели (минимальные атрибуты: ФИО, дата рождения, дата начала работы в нашем университете, дата начала трудовой деятельности)"
   ]
  },
  {
   "cell_type": "code",
   "execution_count": 14,
   "id": "77aa244e",
   "metadata": {},
   "outputs": [
    {
     "data": {
      "text/plain": [
       "<sqlite3.Cursor at 0x16a1b183650>"
      ]
     },
     "execution_count": 14,
     "metadata": {},
     "output_type": "execute_result"
    }
   ],
   "source": [
    "professors_cols = ['professor_id', 'name', 'birth_date', 'job_started', 'profession_started']\n",
    "\n",
    "c.execute('''\n",
    "          CREATE TABLE IF NOT EXISTS professors\n",
    "          ([professor_id] INTEGER PRIMARY KEY,\n",
    "          [name] TEXT,\n",
    "          [birth_date] DATE,\n",
    "          [job_started] DATE,\n",
    "          [profession_started] DATE)\n",
    "          ''')"
   ]
  },
  {
   "cell_type": "markdown",
   "id": "d509f132",
   "metadata": {},
   "source": [
    "Связь преподавателей и курсов"
   ]
  },
  {
   "cell_type": "code",
   "execution_count": 15,
   "id": "e0488eea",
   "metadata": {},
   "outputs": [
    {
     "data": {
      "text/plain": [
       "<sqlite3.Cursor at 0x16a1b183650>"
      ]
     },
     "execution_count": 15,
     "metadata": {},
     "output_type": "execute_result"
    }
   ],
   "source": [
    "c.execute('''\n",
    "          CREATE TABLE IF NOT EXISTS professors_courses\n",
    "          ([professor_id] INTEGER NOT NULL,\n",
    "          [course_id] INTEGER NOT NULL,\n",
    "          FOREIGN KEY (professor_id) REFERENCES professors(professor_id),\n",
    "          FOREIGN KEY (course_id) REFERENCES courses(course_id))\n",
    "          ''')"
   ]
  },
  {
   "cell_type": "markdown",
   "id": "3eb4a3d5",
   "metadata": {},
   "source": [
    "## Задание 2 [1 балл]. \n",
    "Заполните вашу схему фейковыми записями - в отношении Студенты должно быть не менее 150 строк\n",
    "\n",
    "В остальных - не менее 20 строк."
   ]
  },
  {
   "cell_type": "markdown",
   "id": "48316ec6",
   "metadata": {},
   "source": [
    "Используем чудесные генераторы данных"
   ]
  },
  {
   "cell_type": "code",
   "execution_count": 16,
   "id": "23e22758",
   "metadata": {},
   "outputs": [
    {
     "name": "stdout",
     "output_type": "stream",
     "text": [
      "Requirement already satisfied: Faker in c:\\users\\elf\\anaconda3\\lib\\site-packages (16.6.1)\n",
      "Requirement already satisfied: russian_names in c:\\users\\elf\\anaconda3\\lib\\site-packages (0.1.2)\n",
      "Requirement already satisfied: python-dateutil>=2.4 in c:\\users\\elf\\anaconda3\\lib\\site-packages (from Faker) (2.8.1)\n",
      "Requirement already satisfied: six>=1.5 in c:\\users\\elf\\anaconda3\\lib\\site-packages (from python-dateutil>=2.4->Faker) (1.15.0)\n"
     ]
    },
    {
     "name": "stderr",
     "output_type": "stream",
     "text": [
      "\n",
      "[notice] A new release of pip available: 22.3.1 -> 23.0\n",
      "[notice] To update, run: python.exe -m pip install --upgrade pip\n"
     ]
    }
   ],
   "source": [
    "!pip install Faker russian_names"
   ]
  },
  {
   "cell_type": "code",
   "execution_count": 17,
   "id": "ffa600ed",
   "metadata": {},
   "outputs": [
    {
     "data": {
      "text/plain": [
       "['record_book_id', 'name', 'birth_date', 'group_id', 'enrollment_year']"
      ]
     },
     "execution_count": 17,
     "metadata": {},
     "output_type": "execute_result"
    }
   ],
   "source": [
    "students_cols"
   ]
  },
  {
   "cell_type": "code",
   "execution_count": 18,
   "id": "a1011267",
   "metadata": {},
   "outputs": [],
   "source": [
    "from russian_names import RussianNames\n",
    "from faker import Faker\n",
    "\n",
    "\n",
    "name_generator = RussianNames()\n",
    "fake = Faker()\n",
    "\n",
    "unique_ids = np.array(list(set([np.random.randint(1e5, 1e6) for _ in range(1000)])))\n",
    "\n",
    "students_id = unique_ids[np.random.choice(len(unique_ids), size=200, replace=False)]\n",
    "courses_id = unique_ids[np.random.choice(len(unique_ids), size=20, replace=False)]\n",
    "professors_id = unique_ids[np.random.choice(len(unique_ids), size=30, replace=False)]"
   ]
  },
  {
   "cell_type": "markdown",
   "id": "4405baa8",
   "metadata": {},
   "source": [
    "### students"
   ]
  },
  {
   "cell_type": "code",
   "execution_count": 19,
   "id": "d57b3770",
   "metadata": {},
   "outputs": [],
   "source": [
    "student_data = defaultdict(list)\n",
    "\n",
    "for i, record_book_id in enumerate(students_id):\n",
    "    student_data[\"record_book_id\"].append(record_book_id)\n",
    "    student_data[\"name\"].append(name_generator.get_person())\n",
    "    \n",
    "    birth_date = fake.date_of_birth(minimum_age = 17, maximum_age = 27)\n",
    "    \n",
    "    student_data[\"birth_date\"].append(birth_date)\n",
    "    student_data[\"group_id\"].append(np.random.randint(1, 5))\n",
    "    student_data[\"enrollment_year\"].append(min(birth_date.year + np.random.randint(18, 27), 2022))"
   ]
  },
  {
   "cell_type": "code",
   "execution_count": 20,
   "id": "d3373ffc",
   "metadata": {
    "scrolled": true
   },
   "outputs": [
    {
     "data": {
      "text/html": [
       "<div>\n",
       "<style scoped>\n",
       "    .dataframe tbody tr th:only-of-type {\n",
       "        vertical-align: middle;\n",
       "    }\n",
       "\n",
       "    .dataframe tbody tr th {\n",
       "        vertical-align: top;\n",
       "    }\n",
       "\n",
       "    .dataframe thead th {\n",
       "        text-align: right;\n",
       "    }\n",
       "</style>\n",
       "<table border=\"1\" class=\"dataframe\">\n",
       "  <thead>\n",
       "    <tr style=\"text-align: right;\">\n",
       "      <th></th>\n",
       "      <th>record_book_id</th>\n",
       "      <th>name</th>\n",
       "      <th>birth_date</th>\n",
       "      <th>group_id</th>\n",
       "      <th>enrollment_year</th>\n",
       "    </tr>\n",
       "  </thead>\n",
       "  <tbody>\n",
       "    <tr>\n",
       "      <th>0</th>\n",
       "      <td>110830</td>\n",
       "      <td>Ева Михайловна Фомыгина</td>\n",
       "      <td>1997-05-07</td>\n",
       "      <td>3</td>\n",
       "      <td>2021</td>\n",
       "    </tr>\n",
       "    <tr>\n",
       "      <th>1</th>\n",
       "      <td>117554</td>\n",
       "      <td>Александра Викторовна Дорогинина</td>\n",
       "      <td>1995-08-23</td>\n",
       "      <td>4</td>\n",
       "      <td>2020</td>\n",
       "    </tr>\n",
       "    <tr>\n",
       "      <th>2</th>\n",
       "      <td>119213</td>\n",
       "      <td>Алла Егоровна Шерватова</td>\n",
       "      <td>2004-03-26</td>\n",
       "      <td>3</td>\n",
       "      <td>2022</td>\n",
       "    </tr>\n",
       "    <tr>\n",
       "      <th>3</th>\n",
       "      <td>119310</td>\n",
       "      <td>Яна Егоровна Ахметьева</td>\n",
       "      <td>2003-08-19</td>\n",
       "      <td>4</td>\n",
       "      <td>2022</td>\n",
       "    </tr>\n",
       "    <tr>\n",
       "      <th>4</th>\n",
       "      <td>123984</td>\n",
       "      <td>Тарас Яковлевич Новасадов</td>\n",
       "      <td>1997-12-16</td>\n",
       "      <td>1</td>\n",
       "      <td>2022</td>\n",
       "    </tr>\n",
       "    <tr>\n",
       "      <th>...</th>\n",
       "      <td>...</td>\n",
       "      <td>...</td>\n",
       "      <td>...</td>\n",
       "      <td>...</td>\n",
       "      <td>...</td>\n",
       "    </tr>\n",
       "    <tr>\n",
       "      <th>195</th>\n",
       "      <td>980112</td>\n",
       "      <td>Карина Вадимовна Жичкина</td>\n",
       "      <td>2002-05-28</td>\n",
       "      <td>1</td>\n",
       "      <td>2022</td>\n",
       "    </tr>\n",
       "    <tr>\n",
       "      <th>196</th>\n",
       "      <td>983076</td>\n",
       "      <td>Василий Иванович Гомегузов</td>\n",
       "      <td>2004-11-30</td>\n",
       "      <td>3</td>\n",
       "      <td>2022</td>\n",
       "    </tr>\n",
       "    <tr>\n",
       "      <th>197</th>\n",
       "      <td>985069</td>\n",
       "      <td>Степан Фёдорович Минцов</td>\n",
       "      <td>2001-03-07</td>\n",
       "      <td>1</td>\n",
       "      <td>2022</td>\n",
       "    </tr>\n",
       "    <tr>\n",
       "      <th>198</th>\n",
       "      <td>986180</td>\n",
       "      <td>Артур Иванович Кочкаев</td>\n",
       "      <td>2003-12-04</td>\n",
       "      <td>1</td>\n",
       "      <td>2022</td>\n",
       "    </tr>\n",
       "    <tr>\n",
       "      <th>199</th>\n",
       "      <td>997723</td>\n",
       "      <td>Герасим Петрович Кризский</td>\n",
       "      <td>1998-02-10</td>\n",
       "      <td>3</td>\n",
       "      <td>2019</td>\n",
       "    </tr>\n",
       "  </tbody>\n",
       "</table>\n",
       "<p>200 rows × 5 columns</p>\n",
       "</div>"
      ],
      "text/plain": [
       "     record_book_id                              name  birth_date group_id  \\\n",
       "0            110830           Ева Михайловна Фомыгина  1997-05-07        3   \n",
       "1            117554  Александра Викторовна Дорогинина  1995-08-23        4   \n",
       "2            119213           Алла Егоровна Шерватова  2004-03-26        3   \n",
       "3            119310            Яна Егоровна Ахметьева  2003-08-19        4   \n",
       "4            123984         Тарас Яковлевич Новасадов  1997-12-16        1   \n",
       "..              ...                               ...         ...      ...   \n",
       "195          980112          Карина Вадимовна Жичкина  2002-05-28        1   \n",
       "196          983076        Василий Иванович Гомегузов  2004-11-30        3   \n",
       "197          985069           Степан Фёдорович Минцов  2001-03-07        1   \n",
       "198          986180            Артур Иванович Кочкаев  2003-12-04        1   \n",
       "199          997723         Герасим Петрович Кризский  1998-02-10        3   \n",
       "\n",
       "     enrollment_year  \n",
       "0               2021  \n",
       "1               2020  \n",
       "2               2022  \n",
       "3               2022  \n",
       "4               2022  \n",
       "..               ...  \n",
       "195             2022  \n",
       "196             2022  \n",
       "197             2022  \n",
       "198             2022  \n",
       "199             2019  \n",
       "\n",
       "[200 rows x 5 columns]"
      ]
     },
     "execution_count": 20,
     "metadata": {},
     "output_type": "execute_result"
    }
   ],
   "source": [
    "df_student_data = pd.DataFrame(student_data)\n",
    "\n",
    "df_student_data.to_sql('students', conn, if_exists='append', index=False)\n",
    "\n",
    "c.execute('''\n",
    "select * from students\n",
    "'''\n",
    ")\n",
    "pd.DataFrame(c.fetchall(), columns=students_cols)"
   ]
  },
  {
   "cell_type": "markdown",
   "id": "058d3ec9",
   "metadata": {},
   "source": [
    "### courses"
   ]
  },
  {
   "cell_type": "code",
   "execution_count": 21,
   "id": "4b82830d",
   "metadata": {},
   "outputs": [
    {
     "data": {
      "text/plain": [
       "['course_id', 'name', 'type', 'inclusion_date']"
      ]
     },
     "execution_count": 21,
     "metadata": {},
     "output_type": "execute_result"
    }
   ],
   "source": [
    "courses_cols"
   ]
  },
  {
   "cell_type": "code",
   "execution_count": 22,
   "id": "6f78e3f5",
   "metadata": {},
   "outputs": [],
   "source": [
    "course_names = np.array([\"Алгебра\", \"Физика\", \"Криптография\", \"Математический анализ\", \"C++\", \"Python\", \n",
    "                         \"Базы данных\", \"Топология\", \"Экономика\", \"Теория вероятностей\", \"Мат. Статистика\",\n",
    "                        \"Машинное обучение\", \"Анализ данных\", \"Глубокое обучение\", \"Обработка текста\",\n",
    "                        \"Обработка звука\", \"Стохастические процессы\", \"Теоретическая механика\", \n",
    "                         \"Теория случайных процессов\", \"Дискретная математика\"])\n",
    "\n",
    "course_type = np.array([\"обязательный\", \"факультативный\", \"курс по выбору\"])"
   ]
  },
  {
   "cell_type": "code",
   "execution_count": 23,
   "id": "caeb7a64",
   "metadata": {},
   "outputs": [],
   "source": [
    "course_data = defaultdict(list)\n",
    "\n",
    "for i, course_id in enumerate(courses_id):\n",
    "    course_data[\"course_id\"].append(course_id)\n",
    "    course_data[\"name\"].append(course_names[i])\n",
    "    course_data[\"type\"].append(course_type[np.random.randint(0, len(course_type))])\n",
    "    course_data[\"inclusion_date\"].append(np.random.randint(2010, 2022))"
   ]
  },
  {
   "cell_type": "code",
   "execution_count": 24,
   "id": "89ee9b61",
   "metadata": {},
   "outputs": [
    {
     "data": {
      "text/html": [
       "<div>\n",
       "<style scoped>\n",
       "    .dataframe tbody tr th:only-of-type {\n",
       "        vertical-align: middle;\n",
       "    }\n",
       "\n",
       "    .dataframe tbody tr th {\n",
       "        vertical-align: top;\n",
       "    }\n",
       "\n",
       "    .dataframe thead th {\n",
       "        text-align: right;\n",
       "    }\n",
       "</style>\n",
       "<table border=\"1\" class=\"dataframe\">\n",
       "  <thead>\n",
       "    <tr style=\"text-align: right;\">\n",
       "      <th></th>\n",
       "      <th>course_id</th>\n",
       "      <th>name</th>\n",
       "      <th>type</th>\n",
       "      <th>inclusion_date</th>\n",
       "    </tr>\n",
       "  </thead>\n",
       "  <tbody>\n",
       "    <tr>\n",
       "      <th>0</th>\n",
       "      <td>165381</td>\n",
       "      <td>Математический анализ</td>\n",
       "      <td>факультативный</td>\n",
       "      <td>2019</td>\n",
       "    </tr>\n",
       "    <tr>\n",
       "      <th>1</th>\n",
       "      <td>196897</td>\n",
       "      <td>Теория вероятностей</td>\n",
       "      <td>курс по выбору</td>\n",
       "      <td>2013</td>\n",
       "    </tr>\n",
       "    <tr>\n",
       "      <th>2</th>\n",
       "      <td>226567</td>\n",
       "      <td>Стохастические процессы</td>\n",
       "      <td>факультативный</td>\n",
       "      <td>2011</td>\n",
       "    </tr>\n",
       "    <tr>\n",
       "      <th>3</th>\n",
       "      <td>240266</td>\n",
       "      <td>Базы данных</td>\n",
       "      <td>обязательный</td>\n",
       "      <td>2017</td>\n",
       "    </tr>\n",
       "    <tr>\n",
       "      <th>4</th>\n",
       "      <td>288311</td>\n",
       "      <td>Машинное обучение</td>\n",
       "      <td>обязательный</td>\n",
       "      <td>2012</td>\n",
       "    </tr>\n",
       "    <tr>\n",
       "      <th>5</th>\n",
       "      <td>337259</td>\n",
       "      <td>Теория случайных процессов</td>\n",
       "      <td>курс по выбору</td>\n",
       "      <td>2011</td>\n",
       "    </tr>\n",
       "    <tr>\n",
       "      <th>6</th>\n",
       "      <td>539706</td>\n",
       "      <td>Криптография</td>\n",
       "      <td>курс по выбору</td>\n",
       "      <td>2016</td>\n",
       "    </tr>\n",
       "    <tr>\n",
       "      <th>7</th>\n",
       "      <td>591231</td>\n",
       "      <td>Обработка звука</td>\n",
       "      <td>курс по выбору</td>\n",
       "      <td>2013</td>\n",
       "    </tr>\n",
       "    <tr>\n",
       "      <th>8</th>\n",
       "      <td>618490</td>\n",
       "      <td>Физика</td>\n",
       "      <td>обязательный</td>\n",
       "      <td>2011</td>\n",
       "    </tr>\n",
       "    <tr>\n",
       "      <th>9</th>\n",
       "      <td>641517</td>\n",
       "      <td>Дискретная математика</td>\n",
       "      <td>обязательный</td>\n",
       "      <td>2013</td>\n",
       "    </tr>\n",
       "    <tr>\n",
       "      <th>10</th>\n",
       "      <td>646518</td>\n",
       "      <td>Топология</td>\n",
       "      <td>обязательный</td>\n",
       "      <td>2016</td>\n",
       "    </tr>\n",
       "    <tr>\n",
       "      <th>11</th>\n",
       "      <td>671014</td>\n",
       "      <td>Глубокое обучение</td>\n",
       "      <td>курс по выбору</td>\n",
       "      <td>2016</td>\n",
       "    </tr>\n",
       "    <tr>\n",
       "      <th>12</th>\n",
       "      <td>687897</td>\n",
       "      <td>Анализ данных</td>\n",
       "      <td>курс по выбору</td>\n",
       "      <td>2021</td>\n",
       "    </tr>\n",
       "    <tr>\n",
       "      <th>13</th>\n",
       "      <td>751111</td>\n",
       "      <td>Теоретическая механика</td>\n",
       "      <td>факультативный</td>\n",
       "      <td>2016</td>\n",
       "    </tr>\n",
       "    <tr>\n",
       "      <th>14</th>\n",
       "      <td>762181</td>\n",
       "      <td>Мат. Статистика</td>\n",
       "      <td>курс по выбору</td>\n",
       "      <td>2014</td>\n",
       "    </tr>\n",
       "    <tr>\n",
       "      <th>15</th>\n",
       "      <td>770891</td>\n",
       "      <td>C++</td>\n",
       "      <td>факультативный</td>\n",
       "      <td>2019</td>\n",
       "    </tr>\n",
       "    <tr>\n",
       "      <th>16</th>\n",
       "      <td>784991</td>\n",
       "      <td>Python</td>\n",
       "      <td>обязательный</td>\n",
       "      <td>2021</td>\n",
       "    </tr>\n",
       "    <tr>\n",
       "      <th>17</th>\n",
       "      <td>805525</td>\n",
       "      <td>Алгебра</td>\n",
       "      <td>факультативный</td>\n",
       "      <td>2013</td>\n",
       "    </tr>\n",
       "    <tr>\n",
       "      <th>18</th>\n",
       "      <td>892013</td>\n",
       "      <td>Экономика</td>\n",
       "      <td>факультативный</td>\n",
       "      <td>2019</td>\n",
       "    </tr>\n",
       "    <tr>\n",
       "      <th>19</th>\n",
       "      <td>936573</td>\n",
       "      <td>Обработка текста</td>\n",
       "      <td>курс по выбору</td>\n",
       "      <td>2020</td>\n",
       "    </tr>\n",
       "  </tbody>\n",
       "</table>\n",
       "</div>"
      ],
      "text/plain": [
       "    course_id                        name            type  inclusion_date\n",
       "0      165381       Математический анализ  факультативный            2019\n",
       "1      196897         Теория вероятностей  курс по выбору            2013\n",
       "2      226567     Стохастические процессы  факультативный            2011\n",
       "3      240266                 Базы данных    обязательный            2017\n",
       "4      288311           Машинное обучение    обязательный            2012\n",
       "5      337259  Теория случайных процессов  курс по выбору            2011\n",
       "6      539706                Криптография  курс по выбору            2016\n",
       "7      591231             Обработка звука  курс по выбору            2013\n",
       "8      618490                      Физика    обязательный            2011\n",
       "9      641517       Дискретная математика    обязательный            2013\n",
       "10     646518                   Топология    обязательный            2016\n",
       "11     671014           Глубокое обучение  курс по выбору            2016\n",
       "12     687897               Анализ данных  курс по выбору            2021\n",
       "13     751111      Теоретическая механика  факультативный            2016\n",
       "14     762181             Мат. Статистика  курс по выбору            2014\n",
       "15     770891                         C++  факультативный            2019\n",
       "16     784991                      Python    обязательный            2021\n",
       "17     805525                     Алгебра  факультативный            2013\n",
       "18     892013                   Экономика  факультативный            2019\n",
       "19     936573            Обработка текста  курс по выбору            2020"
      ]
     },
     "execution_count": 24,
     "metadata": {},
     "output_type": "execute_result"
    }
   ],
   "source": [
    "df_course_data = pd.DataFrame(course_data)\n",
    "\n",
    "df_course_data.to_sql('courses', conn, if_exists='append', index=False)\n",
    "\n",
    "c.execute('''\n",
    "select * from courses\n",
    "'''\n",
    ")\n",
    "pd.DataFrame(c.fetchall(), columns=courses_cols)"
   ]
  },
  {
   "cell_type": "markdown",
   "id": "f5c65ae9",
   "metadata": {},
   "source": [
    "### students_courses"
   ]
  },
  {
   "cell_type": "code",
   "execution_count": 25,
   "id": "e4b4d68a",
   "metadata": {},
   "outputs": [],
   "source": [
    "students_courses_data = defaultdict(list)\n",
    "\n",
    "for i, student_id in enumerate(students_id):\n",
    "    n_courses = np.random.randint(2, 20)\n",
    "    for course_id in np.random.choice(len(courses_id), size=n_courses, replace=False):\n",
    "        students_courses_data['record_book_id'].append(student_id)\n",
    "        students_courses_data['course_id'].append(courses_id[course_id])"
   ]
  },
  {
   "cell_type": "code",
   "execution_count": 26,
   "id": "720f6222",
   "metadata": {},
   "outputs": [
    {
     "data": {
      "text/html": [
       "<div>\n",
       "<style scoped>\n",
       "    .dataframe tbody tr th:only-of-type {\n",
       "        vertical-align: middle;\n",
       "    }\n",
       "\n",
       "    .dataframe tbody tr th {\n",
       "        vertical-align: top;\n",
       "    }\n",
       "\n",
       "    .dataframe thead th {\n",
       "        text-align: right;\n",
       "    }\n",
       "</style>\n",
       "<table border=\"1\" class=\"dataframe\">\n",
       "  <thead>\n",
       "    <tr style=\"text-align: right;\">\n",
       "      <th></th>\n",
       "      <th>record_book_is</th>\n",
       "      <th>course_id</th>\n",
       "    </tr>\n",
       "  </thead>\n",
       "  <tbody>\n",
       "    <tr>\n",
       "      <th>0</th>\n",
       "      <td>743753</td>\n",
       "      <td>165381</td>\n",
       "    </tr>\n",
       "    <tr>\n",
       "      <th>1</th>\n",
       "      <td>743753</td>\n",
       "      <td>618490</td>\n",
       "    </tr>\n",
       "    <tr>\n",
       "      <th>2</th>\n",
       "      <td>743753</td>\n",
       "      <td>751111</td>\n",
       "    </tr>\n",
       "    <tr>\n",
       "      <th>3</th>\n",
       "      <td>743753</td>\n",
       "      <td>226567</td>\n",
       "    </tr>\n",
       "    <tr>\n",
       "      <th>4</th>\n",
       "      <td>743753</td>\n",
       "      <td>687897</td>\n",
       "    </tr>\n",
       "    <tr>\n",
       "      <th>...</th>\n",
       "      <td>...</td>\n",
       "      <td>...</td>\n",
       "    </tr>\n",
       "    <tr>\n",
       "      <th>2034</th>\n",
       "      <td>624047</td>\n",
       "      <td>936573</td>\n",
       "    </tr>\n",
       "    <tr>\n",
       "      <th>2035</th>\n",
       "      <td>624047</td>\n",
       "      <td>240266</td>\n",
       "    </tr>\n",
       "    <tr>\n",
       "      <th>2036</th>\n",
       "      <td>624047</td>\n",
       "      <td>687897</td>\n",
       "    </tr>\n",
       "    <tr>\n",
       "      <th>2037</th>\n",
       "      <td>624047</td>\n",
       "      <td>539706</td>\n",
       "    </tr>\n",
       "    <tr>\n",
       "      <th>2038</th>\n",
       "      <td>624047</td>\n",
       "      <td>762181</td>\n",
       "    </tr>\n",
       "  </tbody>\n",
       "</table>\n",
       "<p>2039 rows × 2 columns</p>\n",
       "</div>"
      ],
      "text/plain": [
       "      record_book_is  course_id\n",
       "0             743753     165381\n",
       "1             743753     618490\n",
       "2             743753     751111\n",
       "3             743753     226567\n",
       "4             743753     687897\n",
       "...              ...        ...\n",
       "2034          624047     936573\n",
       "2035          624047     240266\n",
       "2036          624047     687897\n",
       "2037          624047     539706\n",
       "2038          624047     762181\n",
       "\n",
       "[2039 rows x 2 columns]"
      ]
     },
     "execution_count": 26,
     "metadata": {},
     "output_type": "execute_result"
    }
   ],
   "source": [
    "df_students_courses_data = pd.DataFrame(students_courses_data)\n",
    "\n",
    "df_students_courses_data.to_sql('students_courses', conn, if_exists='append', index=False)\n",
    "\n",
    "c.execute('''\n",
    "select * from students_courses\n",
    "'''\n",
    ")\n",
    "pd.DataFrame(c.fetchall(), columns=['record_book_is', 'course_id'])"
   ]
  },
  {
   "cell_type": "markdown",
   "id": "5877d92d",
   "metadata": {},
   "source": [
    "### professors"
   ]
  },
  {
   "cell_type": "code",
   "execution_count": 27,
   "id": "1d04b355",
   "metadata": {},
   "outputs": [
    {
     "data": {
      "text/plain": [
       "['professor_id', 'name', 'birth_date', 'job_started', 'profession_started']"
      ]
     },
     "execution_count": 27,
     "metadata": {},
     "output_type": "execute_result"
    }
   ],
   "source": [
    "professors_cols"
   ]
  },
  {
   "cell_type": "code",
   "execution_count": 28,
   "id": "574b85ee",
   "metadata": {},
   "outputs": [],
   "source": [
    "professors_data = defaultdict(list)\n",
    "\n",
    "for i, professor_id in enumerate(professors_id):\n",
    "    professors_data[\"professor_id\"].append(professor_id)\n",
    "    professors_data[\"name\"].append(name_generator.get_person())\n",
    "    \n",
    "    birth_date = fake.date_of_birth(minimum_age = 17, maximum_age = 78)\n",
    "    \n",
    "    professors_data[\"birth_date\"].append(birth_date)\n",
    "    profession_started = min(birth_date.year + np.random.randint(22, 32), 2022)\n",
    "    professors_data[\"job_started\"].append(min(profession_started + np.random.randint(0, 20), 2022))\n",
    "    professors_data[\"profession_started\"].append(profession_started)"
   ]
  },
  {
   "cell_type": "code",
   "execution_count": 29,
   "id": "690620b7",
   "metadata": {},
   "outputs": [
    {
     "data": {
      "text/html": [
       "<div>\n",
       "<style scoped>\n",
       "    .dataframe tbody tr th:only-of-type {\n",
       "        vertical-align: middle;\n",
       "    }\n",
       "\n",
       "    .dataframe tbody tr th {\n",
       "        vertical-align: top;\n",
       "    }\n",
       "\n",
       "    .dataframe thead th {\n",
       "        text-align: right;\n",
       "    }\n",
       "</style>\n",
       "<table border=\"1\" class=\"dataframe\">\n",
       "  <thead>\n",
       "    <tr style=\"text-align: right;\">\n",
       "      <th></th>\n",
       "      <th>professor_id</th>\n",
       "      <th>name</th>\n",
       "      <th>birth_date</th>\n",
       "      <th>job_started</th>\n",
       "      <th>profession_started</th>\n",
       "    </tr>\n",
       "  </thead>\n",
       "  <tbody>\n",
       "    <tr>\n",
       "      <th>0</th>\n",
       "      <td>152905</td>\n",
       "      <td>Максим Леонидович Калитрдин</td>\n",
       "      <td>1953-02-25</td>\n",
       "      <td>1989</td>\n",
       "      <td>1980</td>\n",
       "    </tr>\n",
       "    <tr>\n",
       "      <th>1</th>\n",
       "      <td>168429</td>\n",
       "      <td>Григорий Кириллович Саховдинов</td>\n",
       "      <td>1982-12-07</td>\n",
       "      <td>2008</td>\n",
       "      <td>2006</td>\n",
       "    </tr>\n",
       "    <tr>\n",
       "      <th>2</th>\n",
       "      <td>169953</td>\n",
       "      <td>Евгений Данилович Гугучкин</td>\n",
       "      <td>1967-12-12</td>\n",
       "      <td>1993</td>\n",
       "      <td>1992</td>\n",
       "    </tr>\n",
       "    <tr>\n",
       "      <th>3</th>\n",
       "      <td>187697</td>\n",
       "      <td>Леонид Викторович Ширинский</td>\n",
       "      <td>1970-12-18</td>\n",
       "      <td>2020</td>\n",
       "      <td>2001</td>\n",
       "    </tr>\n",
       "    <tr>\n",
       "      <th>4</th>\n",
       "      <td>203025</td>\n",
       "      <td>Анна Богдановна Аллаярова</td>\n",
       "      <td>1991-11-12</td>\n",
       "      <td>2022</td>\n",
       "      <td>2018</td>\n",
       "    </tr>\n",
       "    <tr>\n",
       "      <th>5</th>\n",
       "      <td>224059</td>\n",
       "      <td>Денис Петрович Гуцулаев</td>\n",
       "      <td>2001-11-07</td>\n",
       "      <td>2022</td>\n",
       "      <td>2022</td>\n",
       "    </tr>\n",
       "    <tr>\n",
       "      <th>6</th>\n",
       "      <td>260907</td>\n",
       "      <td>Дмитрий Алексеевич Хахонин</td>\n",
       "      <td>1994-06-12</td>\n",
       "      <td>2022</td>\n",
       "      <td>2022</td>\n",
       "    </tr>\n",
       "    <tr>\n",
       "      <th>7</th>\n",
       "      <td>328275</td>\n",
       "      <td>Владимир Борисович Жавинский</td>\n",
       "      <td>1954-12-03</td>\n",
       "      <td>1987</td>\n",
       "      <td>1977</td>\n",
       "    </tr>\n",
       "    <tr>\n",
       "      <th>8</th>\n",
       "      <td>352883</td>\n",
       "      <td>Вадим Юриевич Бобылкин</td>\n",
       "      <td>1968-10-03</td>\n",
       "      <td>1999</td>\n",
       "      <td>1999</td>\n",
       "    </tr>\n",
       "    <tr>\n",
       "      <th>9</th>\n",
       "      <td>382784</td>\n",
       "      <td>Вячеслав Антонович Пупшев</td>\n",
       "      <td>2001-12-26</td>\n",
       "      <td>2022</td>\n",
       "      <td>2022</td>\n",
       "    </tr>\n",
       "    <tr>\n",
       "      <th>10</th>\n",
       "      <td>449180</td>\n",
       "      <td>Анастасия Дмитриевна Пегарева</td>\n",
       "      <td>1987-09-02</td>\n",
       "      <td>2022</td>\n",
       "      <td>2017</td>\n",
       "    </tr>\n",
       "    <tr>\n",
       "      <th>11</th>\n",
       "      <td>461343</td>\n",
       "      <td>Клара Андреевна Егнарова</td>\n",
       "      <td>1985-11-27</td>\n",
       "      <td>2009</td>\n",
       "      <td>2007</td>\n",
       "    </tr>\n",
       "    <tr>\n",
       "      <th>12</th>\n",
       "      <td>466524</td>\n",
       "      <td>Артур Виталиевич Выроцков</td>\n",
       "      <td>1944-09-06</td>\n",
       "      <td>1977</td>\n",
       "      <td>1967</td>\n",
       "    </tr>\n",
       "    <tr>\n",
       "      <th>13</th>\n",
       "      <td>472788</td>\n",
       "      <td>Юрий Викторович Мукашев</td>\n",
       "      <td>1980-02-04</td>\n",
       "      <td>2017</td>\n",
       "      <td>2004</td>\n",
       "    </tr>\n",
       "    <tr>\n",
       "      <th>14</th>\n",
       "      <td>483839</td>\n",
       "      <td>Наталия Ивановна Сенишина</td>\n",
       "      <td>1998-10-20</td>\n",
       "      <td>2022</td>\n",
       "      <td>2022</td>\n",
       "    </tr>\n",
       "    <tr>\n",
       "      <th>15</th>\n",
       "      <td>532187</td>\n",
       "      <td>Алёна Федоровна Пожитьева</td>\n",
       "      <td>1973-06-02</td>\n",
       "      <td>2015</td>\n",
       "      <td>2001</td>\n",
       "    </tr>\n",
       "    <tr>\n",
       "      <th>16</th>\n",
       "      <td>544366</td>\n",
       "      <td>Клавдия Богдановна Тогреева</td>\n",
       "      <td>1999-01-23</td>\n",
       "      <td>2022</td>\n",
       "      <td>2022</td>\n",
       "    </tr>\n",
       "    <tr>\n",
       "      <th>17</th>\n",
       "      <td>569042</td>\n",
       "      <td>Ольга Викторовна Сахиулина</td>\n",
       "      <td>1952-04-16</td>\n",
       "      <td>1981</td>\n",
       "      <td>1978</td>\n",
       "    </tr>\n",
       "    <tr>\n",
       "      <th>18</th>\n",
       "      <td>592530</td>\n",
       "      <td>Леонид Аркадиевич Малюшев</td>\n",
       "      <td>1992-08-23</td>\n",
       "      <td>2022</td>\n",
       "      <td>2015</td>\n",
       "    </tr>\n",
       "    <tr>\n",
       "      <th>19</th>\n",
       "      <td>638215</td>\n",
       "      <td>Катерина Валерьевна Кармашова</td>\n",
       "      <td>1970-03-06</td>\n",
       "      <td>2000</td>\n",
       "      <td>1992</td>\n",
       "    </tr>\n",
       "    <tr>\n",
       "      <th>20</th>\n",
       "      <td>710166</td>\n",
       "      <td>Вера Алексеевна Хахелева</td>\n",
       "      <td>1970-09-17</td>\n",
       "      <td>1997</td>\n",
       "      <td>1996</td>\n",
       "    </tr>\n",
       "    <tr>\n",
       "      <th>21</th>\n",
       "      <td>710964</td>\n",
       "      <td>Софья Богдановна Петрашкина</td>\n",
       "      <td>1960-03-26</td>\n",
       "      <td>1991</td>\n",
       "      <td>1985</td>\n",
       "    </tr>\n",
       "    <tr>\n",
       "      <th>22</th>\n",
       "      <td>783787</td>\n",
       "      <td>Виктория Олеговна Дерюжкина</td>\n",
       "      <td>1962-03-12</td>\n",
       "      <td>1992</td>\n",
       "      <td>1992</td>\n",
       "    </tr>\n",
       "    <tr>\n",
       "      <th>23</th>\n",
       "      <td>828956</td>\n",
       "      <td>Георгий Адамович Чевычалов</td>\n",
       "      <td>1947-04-08</td>\n",
       "      <td>1979</td>\n",
       "      <td>1972</td>\n",
       "    </tr>\n",
       "    <tr>\n",
       "      <th>24</th>\n",
       "      <td>844037</td>\n",
       "      <td>Артём Алексиевич Щульцев</td>\n",
       "      <td>2002-05-22</td>\n",
       "      <td>2022</td>\n",
       "      <td>2022</td>\n",
       "    </tr>\n",
       "    <tr>\n",
       "      <th>25</th>\n",
       "      <td>852267</td>\n",
       "      <td>Эдуард Романович Кудинов</td>\n",
       "      <td>1996-12-03</td>\n",
       "      <td>2022</td>\n",
       "      <td>2022</td>\n",
       "    </tr>\n",
       "    <tr>\n",
       "      <th>26</th>\n",
       "      <td>893027</td>\n",
       "      <td>Валерий Виталиевич Солодилов</td>\n",
       "      <td>1944-10-27</td>\n",
       "      <td>1986</td>\n",
       "      <td>1968</td>\n",
       "    </tr>\n",
       "    <tr>\n",
       "      <th>27</th>\n",
       "      <td>893867</td>\n",
       "      <td>Илья Павлович Племенев</td>\n",
       "      <td>1988-04-09</td>\n",
       "      <td>2022</td>\n",
       "      <td>2017</td>\n",
       "    </tr>\n",
       "    <tr>\n",
       "      <th>28</th>\n",
       "      <td>895078</td>\n",
       "      <td>Павел Фёдорович Краснохин</td>\n",
       "      <td>1984-06-04</td>\n",
       "      <td>2013</td>\n",
       "      <td>2012</td>\n",
       "    </tr>\n",
       "    <tr>\n",
       "      <th>29</th>\n",
       "      <td>997345</td>\n",
       "      <td>Евгения Максимовна Решеткина</td>\n",
       "      <td>2003-12-24</td>\n",
       "      <td>2022</td>\n",
       "      <td>2022</td>\n",
       "    </tr>\n",
       "  </tbody>\n",
       "</table>\n",
       "</div>"
      ],
      "text/plain": [
       "    professor_id                            name  birth_date  job_started  \\\n",
       "0         152905     Максим Леонидович Калитрдин  1953-02-25         1989   \n",
       "1         168429  Григорий Кириллович Саховдинов  1982-12-07         2008   \n",
       "2         169953      Евгений Данилович Гугучкин  1967-12-12         1993   \n",
       "3         187697     Леонид Викторович Ширинский  1970-12-18         2020   \n",
       "4         203025       Анна Богдановна Аллаярова  1991-11-12         2022   \n",
       "5         224059         Денис Петрович Гуцулаев  2001-11-07         2022   \n",
       "6         260907      Дмитрий Алексеевич Хахонин  1994-06-12         2022   \n",
       "7         328275    Владимир Борисович Жавинский  1954-12-03         1987   \n",
       "8         352883          Вадим Юриевич Бобылкин  1968-10-03         1999   \n",
       "9         382784       Вячеслав Антонович Пупшев  2001-12-26         2022   \n",
       "10        449180   Анастасия Дмитриевна Пегарева  1987-09-02         2022   \n",
       "11        461343        Клара Андреевна Егнарова  1985-11-27         2009   \n",
       "12        466524       Артур Виталиевич Выроцков  1944-09-06         1977   \n",
       "13        472788         Юрий Викторович Мукашев  1980-02-04         2017   \n",
       "14        483839       Наталия Ивановна Сенишина  1998-10-20         2022   \n",
       "15        532187       Алёна Федоровна Пожитьева  1973-06-02         2015   \n",
       "16        544366     Клавдия Богдановна Тогреева  1999-01-23         2022   \n",
       "17        569042      Ольга Викторовна Сахиулина  1952-04-16         1981   \n",
       "18        592530       Леонид Аркадиевич Малюшев  1992-08-23         2022   \n",
       "19        638215   Катерина Валерьевна Кармашова  1970-03-06         2000   \n",
       "20        710166        Вера Алексеевна Хахелева  1970-09-17         1997   \n",
       "21        710964     Софья Богдановна Петрашкина  1960-03-26         1991   \n",
       "22        783787     Виктория Олеговна Дерюжкина  1962-03-12         1992   \n",
       "23        828956      Георгий Адамович Чевычалов  1947-04-08         1979   \n",
       "24        844037        Артём Алексиевич Щульцев  2002-05-22         2022   \n",
       "25        852267        Эдуард Романович Кудинов  1996-12-03         2022   \n",
       "26        893027    Валерий Виталиевич Солодилов  1944-10-27         1986   \n",
       "27        893867          Илья Павлович Племенев  1988-04-09         2022   \n",
       "28        895078       Павел Фёдорович Краснохин  1984-06-04         2013   \n",
       "29        997345    Евгения Максимовна Решеткина  2003-12-24         2022   \n",
       "\n",
       "    profession_started  \n",
       "0                 1980  \n",
       "1                 2006  \n",
       "2                 1992  \n",
       "3                 2001  \n",
       "4                 2018  \n",
       "5                 2022  \n",
       "6                 2022  \n",
       "7                 1977  \n",
       "8                 1999  \n",
       "9                 2022  \n",
       "10                2017  \n",
       "11                2007  \n",
       "12                1967  \n",
       "13                2004  \n",
       "14                2022  \n",
       "15                2001  \n",
       "16                2022  \n",
       "17                1978  \n",
       "18                2015  \n",
       "19                1992  \n",
       "20                1996  \n",
       "21                1985  \n",
       "22                1992  \n",
       "23                1972  \n",
       "24                2022  \n",
       "25                2022  \n",
       "26                1968  \n",
       "27                2017  \n",
       "28                2012  \n",
       "29                2022  "
      ]
     },
     "execution_count": 29,
     "metadata": {},
     "output_type": "execute_result"
    }
   ],
   "source": [
    "df_professors_data = pd.DataFrame(professors_data)\n",
    "\n",
    "df_professors_data.to_sql('professors', conn, if_exists='append', index=False)\n",
    "\n",
    "c.execute('''\n",
    "select * from professors\n",
    "'''\n",
    ")\n",
    "pd.DataFrame(c.fetchall(), columns=professors_cols)"
   ]
  },
  {
   "cell_type": "markdown",
   "id": "6aaa53d0",
   "metadata": {},
   "source": [
    "### professors_courses"
   ]
  },
  {
   "cell_type": "code",
   "execution_count": 30,
   "id": "924cbfb6",
   "metadata": {},
   "outputs": [],
   "source": [
    "professors_courses_data = defaultdict(list)\n",
    "\n",
    "for i, professor_id in enumerate(professors_id):\n",
    "    n_courses = np.random.randint(3, 7)\n",
    "    for course_id in np.random.choice(len(courses_id), size=n_courses, replace=False):\n",
    "        professors_courses_data['professor_id'].append(professor_id)\n",
    "        professors_courses_data['course_id'].append(courses_id[course_id])"
   ]
  },
  {
   "cell_type": "code",
   "execution_count": 31,
   "id": "d83352ea",
   "metadata": {},
   "outputs": [
    {
     "data": {
      "text/html": [
       "<div>\n",
       "<style scoped>\n",
       "    .dataframe tbody tr th:only-of-type {\n",
       "        vertical-align: middle;\n",
       "    }\n",
       "\n",
       "    .dataframe tbody tr th {\n",
       "        vertical-align: top;\n",
       "    }\n",
       "\n",
       "    .dataframe thead th {\n",
       "        text-align: right;\n",
       "    }\n",
       "</style>\n",
       "<table border=\"1\" class=\"dataframe\">\n",
       "  <thead>\n",
       "    <tr style=\"text-align: right;\">\n",
       "      <th></th>\n",
       "      <th>professor_id</th>\n",
       "      <th>course_id</th>\n",
       "    </tr>\n",
       "  </thead>\n",
       "  <tbody>\n",
       "    <tr>\n",
       "      <th>0</th>\n",
       "      <td>461343</td>\n",
       "      <td>770891</td>\n",
       "    </tr>\n",
       "    <tr>\n",
       "      <th>1</th>\n",
       "      <td>461343</td>\n",
       "      <td>784991</td>\n",
       "    </tr>\n",
       "    <tr>\n",
       "      <th>2</th>\n",
       "      <td>461343</td>\n",
       "      <td>196897</td>\n",
       "    </tr>\n",
       "    <tr>\n",
       "      <th>3</th>\n",
       "      <td>461343</td>\n",
       "      <td>762181</td>\n",
       "    </tr>\n",
       "    <tr>\n",
       "      <th>4</th>\n",
       "      <td>461343</td>\n",
       "      <td>936573</td>\n",
       "    </tr>\n",
       "    <tr>\n",
       "      <th>...</th>\n",
       "      <td>...</td>\n",
       "      <td>...</td>\n",
       "    </tr>\n",
       "    <tr>\n",
       "      <th>122</th>\n",
       "      <td>638215</td>\n",
       "      <td>618490</td>\n",
       "    </tr>\n",
       "    <tr>\n",
       "      <th>123</th>\n",
       "      <td>168429</td>\n",
       "      <td>539706</td>\n",
       "    </tr>\n",
       "    <tr>\n",
       "      <th>124</th>\n",
       "      <td>168429</td>\n",
       "      <td>671014</td>\n",
       "    </tr>\n",
       "    <tr>\n",
       "      <th>125</th>\n",
       "      <td>168429</td>\n",
       "      <td>337259</td>\n",
       "    </tr>\n",
       "    <tr>\n",
       "      <th>126</th>\n",
       "      <td>168429</td>\n",
       "      <td>591231</td>\n",
       "    </tr>\n",
       "  </tbody>\n",
       "</table>\n",
       "<p>127 rows × 2 columns</p>\n",
       "</div>"
      ],
      "text/plain": [
       "     professor_id  course_id\n",
       "0          461343     770891\n",
       "1          461343     784991\n",
       "2          461343     196897\n",
       "3          461343     762181\n",
       "4          461343     936573\n",
       "..            ...        ...\n",
       "122        638215     618490\n",
       "123        168429     539706\n",
       "124        168429     671014\n",
       "125        168429     337259\n",
       "126        168429     591231\n",
       "\n",
       "[127 rows x 2 columns]"
      ]
     },
     "execution_count": 31,
     "metadata": {},
     "output_type": "execute_result"
    }
   ],
   "source": [
    "df_professors_courses_data = pd.DataFrame(professors_courses_data)\n",
    "\n",
    "df_professors_courses_data.to_sql('professors_courses', conn, if_exists='append', index=False)\n",
    "\n",
    "c.execute('''\n",
    "select * from professors_courses\n",
    "'''\n",
    ")\n",
    "pd.DataFrame(c.fetchall(), columns=['professor_id', 'course_id'])"
   ]
  },
  {
   "cell_type": "markdown",
   "id": "adf12ea1",
   "metadata": {},
   "source": [
    "Задание 3 [1 балл]. Выведите топ-10 курсов, которые ведут наименьшее число преподавателей. Расположите в порядке возрастания числа преподавателей."
   ]
  },
  {
   "cell_type": "code",
   "execution_count": 32,
   "id": "208011c4",
   "metadata": {},
   "outputs": [
    {
     "data": {
      "text/html": [
       "<div>\n",
       "<style scoped>\n",
       "    .dataframe tbody tr th:only-of-type {\n",
       "        vertical-align: middle;\n",
       "    }\n",
       "\n",
       "    .dataframe tbody tr th {\n",
       "        vertical-align: top;\n",
       "    }\n",
       "\n",
       "    .dataframe thead th {\n",
       "        text-align: right;\n",
       "    }\n",
       "</style>\n",
       "<table border=\"1\" class=\"dataframe\">\n",
       "  <thead>\n",
       "    <tr style=\"text-align: right;\">\n",
       "      <th></th>\n",
       "      <th>name</th>\n",
       "      <th>count</th>\n",
       "    </tr>\n",
       "  </thead>\n",
       "  <tbody>\n",
       "    <tr>\n",
       "      <th>0</th>\n",
       "      <td>Алгебра</td>\n",
       "      <td>2</td>\n",
       "    </tr>\n",
       "    <tr>\n",
       "      <th>1</th>\n",
       "      <td>Базы данных</td>\n",
       "      <td>3</td>\n",
       "    </tr>\n",
       "    <tr>\n",
       "      <th>2</th>\n",
       "      <td>Машинное обучение</td>\n",
       "      <td>3</td>\n",
       "    </tr>\n",
       "    <tr>\n",
       "      <th>3</th>\n",
       "      <td>Python</td>\n",
       "      <td>4</td>\n",
       "    </tr>\n",
       "    <tr>\n",
       "      <th>4</th>\n",
       "      <td>Криптография</td>\n",
       "      <td>5</td>\n",
       "    </tr>\n",
       "    <tr>\n",
       "      <th>5</th>\n",
       "      <td>Физика</td>\n",
       "      <td>5</td>\n",
       "    </tr>\n",
       "    <tr>\n",
       "      <th>6</th>\n",
       "      <td>Дискретная математика</td>\n",
       "      <td>5</td>\n",
       "    </tr>\n",
       "    <tr>\n",
       "      <th>7</th>\n",
       "      <td>Анализ данных</td>\n",
       "      <td>6</td>\n",
       "    </tr>\n",
       "    <tr>\n",
       "      <th>8</th>\n",
       "      <td>Экономика</td>\n",
       "      <td>6</td>\n",
       "    </tr>\n",
       "    <tr>\n",
       "      <th>9</th>\n",
       "      <td>Обработка текста</td>\n",
       "      <td>6</td>\n",
       "    </tr>\n",
       "  </tbody>\n",
       "</table>\n",
       "</div>"
      ],
      "text/plain": [
       "                    name  count\n",
       "0                Алгебра      2\n",
       "1            Базы данных      3\n",
       "2      Машинное обучение      3\n",
       "3                 Python      4\n",
       "4           Криптография      5\n",
       "5                 Физика      5\n",
       "6  Дискретная математика      5\n",
       "7          Анализ данных      6\n",
       "8              Экономика      6\n",
       "9       Обработка текста      6"
      ]
     },
     "execution_count": 32,
     "metadata": {},
     "output_type": "execute_result"
    }
   ],
   "source": [
    "c.execute('''\n",
    "select c.name, prof_cnt.cnt from courses as c\n",
    "join\n",
    "(select course_id, count(distinct professor_id) as cnt from professors_courses\n",
    "group by course_id\n",
    "order by count(distinct professor_id) asc\n",
    "limit 10) as prof_cnt\n",
    "on c.course_id = prof_cnt.course_id\n",
    "''')\n",
    "\n",
    "\n",
    "pd.DataFrame(c.fetchall(), columns=['name', 'count'])"
   ]
  },
  {
   "cell_type": "markdown",
   "id": "f813aa70",
   "metadata": {},
   "source": [
    "Задание 4 [2 балла]. Напишите запрос, который выведет топ-10 преподавателей, которые преподают у наибольшего числа студентов. Расположите их в порядка убывания числа студентов."
   ]
  },
  {
   "cell_type": "code",
   "execution_count": 33,
   "id": "bce29ad1",
   "metadata": {},
   "outputs": [
    {
     "data": {
      "text/html": [
       "<div>\n",
       "<style scoped>\n",
       "    .dataframe tbody tr th:only-of-type {\n",
       "        vertical-align: middle;\n",
       "    }\n",
       "\n",
       "    .dataframe tbody tr th {\n",
       "        vertical-align: top;\n",
       "    }\n",
       "\n",
       "    .dataframe thead th {\n",
       "        text-align: right;\n",
       "    }\n",
       "</style>\n",
       "<table border=\"1\" class=\"dataframe\">\n",
       "  <thead>\n",
       "    <tr style=\"text-align: right;\">\n",
       "      <th></th>\n",
       "      <th>name</th>\n",
       "      <th>count</th>\n",
       "    </tr>\n",
       "  </thead>\n",
       "  <tbody>\n",
       "    <tr>\n",
       "      <th>0</th>\n",
       "      <td>Анна Богдановна Аллаярова</td>\n",
       "      <td>189</td>\n",
       "    </tr>\n",
       "    <tr>\n",
       "      <th>1</th>\n",
       "      <td>Катерина Валерьевна Кармашова</td>\n",
       "      <td>187</td>\n",
       "    </tr>\n",
       "    <tr>\n",
       "      <th>2</th>\n",
       "      <td>Клавдия Богдановна Тогреева</td>\n",
       "      <td>185</td>\n",
       "    </tr>\n",
       "    <tr>\n",
       "      <th>3</th>\n",
       "      <td>Софья Богдановна Петрашкина</td>\n",
       "      <td>184</td>\n",
       "    </tr>\n",
       "    <tr>\n",
       "      <th>4</th>\n",
       "      <td>Артём Алексиевич Щульцев</td>\n",
       "      <td>183</td>\n",
       "    </tr>\n",
       "    <tr>\n",
       "      <th>5</th>\n",
       "      <td>Наталия Ивановна Сенишина</td>\n",
       "      <td>183</td>\n",
       "    </tr>\n",
       "    <tr>\n",
       "      <th>6</th>\n",
       "      <td>Артур Виталиевич Выроцков</td>\n",
       "      <td>183</td>\n",
       "    </tr>\n",
       "    <tr>\n",
       "      <th>7</th>\n",
       "      <td>Вячеслав Антонович Пупшев</td>\n",
       "      <td>182</td>\n",
       "    </tr>\n",
       "    <tr>\n",
       "      <th>8</th>\n",
       "      <td>Валерий Виталиевич Солодилов</td>\n",
       "      <td>180</td>\n",
       "    </tr>\n",
       "    <tr>\n",
       "      <th>9</th>\n",
       "      <td>Клара Андреевна Егнарова</td>\n",
       "      <td>180</td>\n",
       "    </tr>\n",
       "  </tbody>\n",
       "</table>\n",
       "</div>"
      ],
      "text/plain": [
       "                            name  count\n",
       "0      Анна Богдановна Аллаярова    189\n",
       "1  Катерина Валерьевна Кармашова    187\n",
       "2    Клавдия Богдановна Тогреева    185\n",
       "3    Софья Богдановна Петрашкина    184\n",
       "4       Артём Алексиевич Щульцев    183\n",
       "5      Наталия Ивановна Сенишина    183\n",
       "6      Артур Виталиевич Выроцков    183\n",
       "7      Вячеслав Антонович Пупшев    182\n",
       "8   Валерий Виталиевич Солодилов    180\n",
       "9       Клара Андреевна Егнарова    180"
      ]
     },
     "execution_count": 33,
     "metadata": {},
     "output_type": "execute_result"
    }
   ],
   "source": [
    "c.execute('''\n",
    "select p.name, topprof.st_cnt from professors as p\n",
    "join \n",
    "(select pc.professor_id, count(distinct sc.record_book_id) as st_cnt from professors_courses as pc\n",
    "join students_courses as sc on pc.course_id = sc.course_id\n",
    "group by pc.professor_id\n",
    "order by count(distinct sc.record_book_id) desc\n",
    "limit 10) as topprof \n",
    "on p.professor_id = topprof.professor_id\n",
    "''')\n",
    "\n",
    "pd.DataFrame(c.fetchall(), columns=['name', 'count'])"
   ]
  },
  {
   "cell_type": "markdown",
   "id": "b52d144e",
   "metadata": {},
   "source": [
    "Задание 5 [1.5 балла]. Для каждой группы студентов, поступивших не ранее 2019 года, выведите размах между максимальной и минимальной датами рождений студентов в этой группе."
   ]
  },
  {
   "cell_type": "code",
   "execution_count": 34,
   "id": "afc8483e",
   "metadata": {},
   "outputs": [
    {
     "data": {
      "text/html": [
       "<div>\n",
       "<style scoped>\n",
       "    .dataframe tbody tr th:only-of-type {\n",
       "        vertical-align: middle;\n",
       "    }\n",
       "\n",
       "    .dataframe tbody tr th {\n",
       "        vertical-align: top;\n",
       "    }\n",
       "\n",
       "    .dataframe thead th {\n",
       "        text-align: right;\n",
       "    }\n",
       "</style>\n",
       "<table border=\"1\" class=\"dataframe\">\n",
       "  <thead>\n",
       "    <tr style=\"text-align: right;\">\n",
       "      <th></th>\n",
       "      <th>group_id</th>\n",
       "      <th>birthday variety</th>\n",
       "      <th>youngest</th>\n",
       "      <th>eldest</th>\n",
       "    </tr>\n",
       "  </thead>\n",
       "  <tbody>\n",
       "    <tr>\n",
       "      <th>0</th>\n",
       "      <td>1</td>\n",
       "      <td>10</td>\n",
       "      <td>2005-11-14</td>\n",
       "      <td>1995-11-02</td>\n",
       "    </tr>\n",
       "    <tr>\n",
       "      <th>1</th>\n",
       "      <td>2</td>\n",
       "      <td>11</td>\n",
       "      <td>2006-01-30</td>\n",
       "      <td>1995-08-25</td>\n",
       "    </tr>\n",
       "    <tr>\n",
       "      <th>2</th>\n",
       "      <td>3</td>\n",
       "      <td>11</td>\n",
       "      <td>2006-01-10</td>\n",
       "      <td>1995-05-23</td>\n",
       "    </tr>\n",
       "    <tr>\n",
       "      <th>3</th>\n",
       "      <td>4</td>\n",
       "      <td>10</td>\n",
       "      <td>2005-08-20</td>\n",
       "      <td>1995-08-23</td>\n",
       "    </tr>\n",
       "  </tbody>\n",
       "</table>\n",
       "</div>"
      ],
      "text/plain": [
       "  group_id  birthday variety    youngest      eldest\n",
       "0        1                10  2005-11-14  1995-11-02\n",
       "1        2                11  2006-01-30  1995-08-25\n",
       "2        3                11  2006-01-10  1995-05-23\n",
       "3        4                10  2005-08-20  1995-08-23"
      ]
     },
     "execution_count": 34,
     "metadata": {},
     "output_type": "execute_result"
    }
   ],
   "source": [
    "c.execute(\n",
    "    '''\n",
    "    select group_id, max(birth_date) - min(birth_date), max(birth_date), min(birth_date) from students\n",
    "    where enrollment_year >= 2019\n",
    "    group by group_id\n",
    "    '''\n",
    ")\n",
    "\n",
    "pd.DataFrame(c.fetchall(), columns = ['group_id', 'birthday variety', 'youngest', 'eldest'])"
   ]
  },
  {
   "cell_type": "markdown",
   "id": "baa4c9c8",
   "metadata": {},
   "source": [
    "Задание 6 [1.5 балла]. Среди преподавателей, родившихся в период между самой ранней датой начала работы в нашем университете и самой ранней датой начала трудовой деятельности по всем преподавателям, определите самое популярное имя."
   ]
  },
  {
   "cell_type": "markdown",
   "id": "216b5adb",
   "metadata": {},
   "source": [
    "Примечание: данные генерируются случайно, вероятность того, что у кого-то совпадут имена очень мала"
   ]
  },
  {
   "cell_type": "code",
   "execution_count": 44,
   "id": "9011c1fe",
   "metadata": {},
   "outputs": [
    {
     "data": {
      "text/html": [
       "<div>\n",
       "<style scoped>\n",
       "    .dataframe tbody tr th:only-of-type {\n",
       "        vertical-align: middle;\n",
       "    }\n",
       "\n",
       "    .dataframe tbody tr th {\n",
       "        vertical-align: top;\n",
       "    }\n",
       "\n",
       "    .dataframe thead th {\n",
       "        text-align: right;\n",
       "    }\n",
       "</style>\n",
       "<table border=\"1\" class=\"dataframe\">\n",
       "  <thead>\n",
       "    <tr style=\"text-align: right;\">\n",
       "      <th></th>\n",
       "      <th>0</th>\n",
       "    </tr>\n",
       "  </thead>\n",
       "  <tbody>\n",
       "    <tr>\n",
       "      <th>0</th>\n",
       "      <td>Леонид</td>\n",
       "    </tr>\n",
       "  </tbody>\n",
       "</table>\n",
       "</div>"
      ],
      "text/plain": [
       "        0\n",
       "0  Леонид"
      ]
     },
     "execution_count": 44,
     "metadata": {},
     "output_type": "execute_result"
    }
   ],
   "source": [
    "c.execute(\n",
    "    '''\n",
    "    select SUBSTR(name, 1, instr(name, ' ') - 1) AS firstname from professors\n",
    "    where cast(cast(birth_date as date) as text) between \n",
    "    cast((select min(profession_started) from professors) as text)\n",
    "    and\n",
    "    cast((select min(job_started) from professors) as text)\n",
    "    group by firstname\n",
    "    order by count(distinct SUBSTR(name, 1, instr(name, ' ') - 1)) desc\n",
    "    limit 1\n",
    "    '''\n",
    ")\n",
    "\n",
    "pd.DataFrame(c.fetchall())"
   ]
  },
  {
   "cell_type": "code",
   "execution_count": null,
   "id": "aaabe3e4",
   "metadata": {},
   "outputs": [],
   "source": []
  }
 ],
 "metadata": {
  "kernelspec": {
   "display_name": "Python 3",
   "language": "python",
   "name": "python3"
  },
  "language_info": {
   "codemirror_mode": {
    "name": "ipython",
    "version": 3
   },
   "file_extension": ".py",
   "mimetype": "text/x-python",
   "name": "python",
   "nbconvert_exporter": "python",
   "pygments_lexer": "ipython3",
   "version": "3.8.8"
  }
 },
 "nbformat": 4,
 "nbformat_minor": 5
}
